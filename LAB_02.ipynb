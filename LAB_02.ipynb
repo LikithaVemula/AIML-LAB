{
  "cells": [
    {
      "cell_type": "markdown",
      "metadata": {
        "id": "view-in-github",
        "colab_type": "text"
      },
      "source": [
        "<a href=\"https://colab.research.google.com/github/LikithaVemula/AIML-LAB/blob/main/LAB_02.ipynb\" target=\"_parent\"><img src=\"https://colab.research.google.com/assets/colab-badge.svg\" alt=\"Open In Colab\"/></a>"
      ]
    },
    {
      "cell_type": "markdown",
      "id": "3943f34f-6e30-4d3a-953d-e366a67ad0c9",
      "metadata": {
        "id": "3943f34f-6e30-4d3a-953d-e366a67ad0c9"
      },
      "source": [
        "PART-01:Implement Breadth First Search Algorithm"
      ]
    },
    {
      "cell_type": "code",
      "execution_count": null,
      "id": "a379b732-c167-4fbb-87e3-802e03b0f04b",
      "metadata": {
        "id": "a379b732-c167-4fbb-87e3-802e03b0f04b"
      },
      "outputs": [],
      "source": [
        "import numpy as np"
      ]
    },
    {
      "cell_type": "code",
      "execution_count": null,
      "id": "485b9f84-a83a-4652-8c9c-0383d0a6ec46",
      "metadata": {
        "id": "485b9f84-a83a-4652-8c9c-0383d0a6ec46",
        "outputId": "8932ade3-81ca-4d42-8b1b-31add7fc8913"
      },
      "outputs": [
        {
          "name": "stdout",
          "output_type": "stream",
          "text": [
            "the adjency listmrepresenting the graph is\n",
            "{0: [1, 3], 1: [0, 2, 3], 2: [4, 1, 5], 3: [4, 0, 1], 4: [2, 3, 5], 5: [4, 2], 6: [1]}\n"
          ]
        }
      ],
      "source": [
        "from queue import Queue\n",
        "graph={0:[1,3],1:[0,2,3],2:[4,1,5],3:[4,0,1],4:[2,3,5],5:[4,2],6:[1]}\n",
        "print(\"the adjency listmrepresenting the graph is\")\n",
        "print(graph)"
      ]
    },
    {
      "cell_type": "code",
      "execution_count": null,
      "id": "327104a1-9448-44aa-8bde-dd610f16c094",
      "metadata": {
        "id": "327104a1-9448-44aa-8bde-dd610f16c094",
        "outputId": "dfaea75a-7e3b-4ae6-bf82-48d25d07c612"
      },
      "outputs": [
        {
          "name": "stdout",
          "output_type": "stream",
          "text": [
            "BFS traversal of graph with source 0 is:\n",
            "0-->1-->3-->2-->4-->5-->"
          ]
        }
      ],
      "source": [
        "def bfs(graph, source):\n",
        "    Q = Queue()\n",
        "    visited_vertices = set()\n",
        "    Q.put(source)\n",
        "    visited_vertices.update({0})\n",
        "    while not Q.empty():\n",
        "        vertex = Q.get()\n",
        "        print(vertex, end=\"-->\")\n",
        "        for u in graph[vertex]:\n",
        "            if u not in visited_vertices:\n",
        "                Q.put(u)\n",
        "                visited_vertices.update({u})\n",
        "\n",
        "print(\"BFS traversal of graph with source 0 is:\")\n",
        "bfs(graph, 0)"
      ]
    },
    {
      "cell_type": "markdown",
      "id": "fc553556-5b4b-457a-aec3-ac1c87de4b11",
      "metadata": {
        "id": "fc553556-5b4b-457a-aec3-ac1c87de4b11"
      },
      "source": [
        "PART-02"
      ]
    },
    {
      "cell_type": "code",
      "execution_count": null,
      "id": "a3b9db7e-840d-42b0-b783-530e88749d47",
      "metadata": {
        "id": "a3b9db7e-840d-42b0-b783-530e88749d47",
        "outputId": "24b06b81-198c-4e2e-fd23-1ea35638faf5"
      },
      "outputs": [
        {
          "name": "stdout",
          "output_type": "stream",
          "text": [
            "the adjency listmrepresenting the graph is\n",
            "{'A': ['B', 'S'], 'B': ['A'], 'C': ['D', 'E', 'F', 'S'], 'D': ['C'], 'E': ['C', 'H'], 'F': ['C', 'G'], 'G': ['F', 'S', 'H'], 'H': ['E', 'G'], 'S': ['A', 'C', 'G']}\n"
          ]
        }
      ],
      "source": [
        "from queue import Queue\n",
        "graph={'A':['B','S'],'B':['A'],'C':['D','E','F','S'],'D':['C'],'E':['C','H'],'F':['C','G'],'G':['F','S','H'],'H':['E','G'],'S':['A','C','G']}\n",
        "print(\"the adjency listmrepresenting the graph is\")\n",
        "print(graph)"
      ]
    },
    {
      "cell_type": "code",
      "execution_count": null,
      "id": "9032dc7f-0084-40cc-86a7-2175721310e4",
      "metadata": {
        "id": "9032dc7f-0084-40cc-86a7-2175721310e4",
        "outputId": "65047156-429d-429f-b0ed-1155af7e4031"
      },
      "outputs": [
        {
          "name": "stdout",
          "output_type": "stream",
          "text": [
            "BFS traversal of graph with source 0 is:\n",
            "D-->C-->E-->F-->S-->H-->G-->A-->B-->"
          ]
        }
      ],
      "source": [
        "def bfs(graph, source):\n",
        "    Q = Queue()\n",
        "    visited_vertices = set()\n",
        "    Q.put(source)\n",
        "    visited_vertices.update({'D'})\n",
        "    while not Q.empty():\n",
        "        vertex = Q.get()\n",
        "        print(vertex, end=\"-->\")\n",
        "        for u in graph[vertex]:\n",
        "            if u not in visited_vertices:\n",
        "                Q.put(u)\n",
        "                visited_vertices.update({u})\n",
        "\n",
        "print(\"BFS traversal of graph with source 0 is:\")\n",
        "bfs(graph, 'D')"
      ]
    },
    {
      "cell_type": "markdown",
      "id": "e188e3f9-9c0b-413b-862c-0714b8c2b88b",
      "metadata": {
        "id": "e188e3f9-9c0b-413b-862c-0714b8c2b88b"
      },
      "source": [
        "DF'S"
      ]
    },
    {
      "cell_type": "code",
      "execution_count": null,
      "id": "a72491ab-0aa6-4900-8fdd-02e21dc240d4",
      "metadata": {
        "id": "a72491ab-0aa6-4900-8fdd-02e21dc240d4",
        "outputId": "48f866cf-702e-473e-ad54-90d82abd8216"
      },
      "outputs": [
        {
          "name": "stdout",
          "output_type": "stream",
          "text": [
            "the adjency listmrepresenting the graph is\n",
            "{'A': ['B', 'S'], 'B': ['A'], 'C': ['D', 'E', 'F', 'S'], 'D': ['C'], 'E': ['C', 'H'], 'F': ['C', 'G'], 'G': ['F', 'S', 'H'], 'H': ['E', 'G'], 'S': ['A', 'C', 'G']}\n"
          ]
        }
      ],
      "source": [
        "from queue import Queue\n",
        "graph1={'A':['B','S'],'B':['A'],'C':['D','E','F','S'],'D':['C'],'E':['C','H'],'F':['C','G'],'G':['F','S','H'],'H':['E','G'],'S':['A','C','G']}\n",
        "print(\"the adjency listmrepresenting the graph is\")\n",
        "print(graph)"
      ]
    },
    {
      "cell_type": "code",
      "execution_count": null,
      "id": "c81518bd-d6d0-4433-a8a0-fcbd915cc8a4",
      "metadata": {
        "id": "c81518bd-d6d0-4433-a8a0-fcbd915cc8a4",
        "outputId": "8f0ae9db-a2f8-42d4-c6d0-755554147bf6"
      },
      "outputs": [
        {
          "name": "stdout",
          "output_type": "stream",
          "text": [
            "['B', 'A', 'S', 'C', 'D', 'E', 'H', 'G', 'F']\n"
          ]
        }
      ],
      "source": [
        "def dfs(graph,node,visited):\n",
        "    if node not in visited:\n",
        "        visited.append(node)\n",
        "        for k in graph[node]:\n",
        "            dfs(graph,k,visited)\n",
        "        return visited\n",
        "visited=dfs(graph1,'B',[])\n",
        "print(visited)"
      ]
    },
    {
      "cell_type": "markdown",
      "id": "1462a764-0934-420a-90c3-374ce91f2476",
      "metadata": {
        "id": "1462a764-0934-420a-90c3-374ce91f2476"
      },
      "source": [
        "PART-03:IMPLEMENT OF 'A' ALGORITHM/OR GRAPH SEARCH"
      ]
    },
    {
      "cell_type": "code",
      "execution_count": null,
      "id": "ba390887-d7b7-405c-81b6-56a1962176d7",
      "metadata": {
        "id": "ba390887-d7b7-405c-81b6-56a1962176d7"
      },
      "outputs": [],
      "source": [
        "from copy import deepcopy\n",
        "import numpy as np\n"
      ]
    }
  ],
  "metadata": {
    "kernelspec": {
      "display_name": "Python 3 (ipykernel)",
      "language": "python",
      "name": "python3"
    },
    "language_info": {
      "codemirror_mode": {
        "name": "ipython",
        "version": 3
      },
      "file_extension": ".py",
      "mimetype": "text/x-python",
      "name": "python",
      "nbconvert_exporter": "python",
      "pygments_lexer": "ipython3",
      "version": "3.10.11"
    },
    "colab": {
      "provenance": [],
      "include_colab_link": true
    }
  },
  "nbformat": 4,
  "nbformat_minor": 5
}